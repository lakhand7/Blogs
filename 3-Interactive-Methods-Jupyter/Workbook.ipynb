{
 "cells": [
  {
   "cell_type": "code",
   "execution_count": 1,
   "metadata": {
    "collapsed": true
   },
   "outputs": [],
   "source": [
    "import pandas as pd"
   ]
  },
  {
   "cell_type": "code",
   "execution_count": 2,
   "metadata": {
    "collapsed": false,
    "scrolled": true
   },
   "outputs": [
    {
     "data": {
      "text/html": [
       "<div>\n",
       "<table border=\"1\" class=\"dataframe\">\n",
       "  <thead>\n",
       "    <tr style=\"text-align: right;\">\n",
       "      <th></th>\n",
       "      <th>Group Starts</th>\n",
       "      <th>Sum - Volume (Lynden/Aldergrove)</th>\n",
       "      <th>Avg - Delay (Lynden/Aldergrove)</th>\n",
       "      <th>Avg - Service Rate (Lynden/Aldergrove)</th>\n",
       "      <th>Avg - Vehicles In Queue (Lynden/Aldergrove)</th>\n",
       "      <th>Avg - Queue Length (Lynden/Aldergrove)</th>\n",
       "      <th>Timestamps</th>\n",
       "    </tr>\n",
       "  </thead>\n",
       "  <tbody>\n",
       "    <tr>\n",
       "      <th>0</th>\n",
       "      <td>01-Jan</td>\n",
       "      <td>50701</td>\n",
       "      <td>11.6</td>\n",
       "      <td>91.7</td>\n",
       "      <td>15.0</td>\n",
       "      <td>115.4</td>\n",
       "      <td>2015-01-01 00:00:00</td>\n",
       "    </tr>\n",
       "    <tr>\n",
       "      <th>1</th>\n",
       "      <td>02-Feb</td>\n",
       "      <td>43244</td>\n",
       "      <td>9.9</td>\n",
       "      <td>92.7</td>\n",
       "      <td>16.7</td>\n",
       "      <td>128.8</td>\n",
       "      <td>2015-02-01 00:00:00</td>\n",
       "    </tr>\n",
       "    <tr>\n",
       "      <th>2</th>\n",
       "      <td>03-Mar</td>\n",
       "      <td>40917</td>\n",
       "      <td>12.1</td>\n",
       "      <td>95.5</td>\n",
       "      <td>20.9</td>\n",
       "      <td>161.2</td>\n",
       "      <td>2015-03-01 00:00:00</td>\n",
       "    </tr>\n",
       "    <tr>\n",
       "      <th>3</th>\n",
       "      <td>04-Apr</td>\n",
       "      <td>41585</td>\n",
       "      <td>7.6</td>\n",
       "      <td>96.5</td>\n",
       "      <td>13.7</td>\n",
       "      <td>105.5</td>\n",
       "      <td>2015-04-01 00:00:00</td>\n",
       "    </tr>\n",
       "    <tr>\n",
       "      <th>4</th>\n",
       "      <td>05-May</td>\n",
       "      <td>40405</td>\n",
       "      <td>12.0</td>\n",
       "      <td>98.7</td>\n",
       "      <td>21.3</td>\n",
       "      <td>164.1</td>\n",
       "      <td>2015-05-01 00:00:00</td>\n",
       "    </tr>\n",
       "  </tbody>\n",
       "</table>\n",
       "</div>"
      ],
      "text/plain": [
       "  Group Starts  Sum - Volume (Lynden/Aldergrove)  \\\n",
       "0       01-Jan                             50701   \n",
       "1       02-Feb                             43244   \n",
       "2       03-Mar                             40917   \n",
       "3       04-Apr                             41585   \n",
       "4       05-May                             40405   \n",
       "\n",
       "   Avg - Delay (Lynden/Aldergrove)  Avg - Service Rate (Lynden/Aldergrove)  \\\n",
       "0                             11.6                                    91.7   \n",
       "1                              9.9                                    92.7   \n",
       "2                             12.1                                    95.5   \n",
       "3                              7.6                                    96.5   \n",
       "4                             12.0                                    98.7   \n",
       "\n",
       "   Avg - Vehicles In Queue (Lynden/Aldergrove)  \\\n",
       "0                                         15.0   \n",
       "1                                         16.7   \n",
       "2                                         20.9   \n",
       "3                                         13.7   \n",
       "4                                         21.3   \n",
       "\n",
       "   Avg - Queue Length (Lynden/Aldergrove)           Timestamps  \n",
       "0                                   115.4  2015-01-01 00:00:00  \n",
       "1                                   128.8  2015-02-01 00:00:00  \n",
       "2                                   161.2  2015-03-01 00:00:00  \n",
       "3                                   105.5  2015-04-01 00:00:00  \n",
       "4                                   164.1  2015-05-01 00:00:00  "
      ]
     },
     "execution_count": 2,
     "metadata": {},
     "output_type": "execute_result"
    }
   ],
   "source": [
    "df = pd.read_csv('Northbound.csv')\n",
    "df['Timestamps'] = df['Group Starts']\n",
    "\n",
    "df['Group Starts'] = ['01-Jan','02-Feb','03-Mar','04-Apr','05-May','06-Jun',\n",
    "                      '07-Jul','08-Aug','09-Sep','10-Oct','11-Nov','12-Dec']\n",
    "df.head()"
   ]
  },
  {
   "cell_type": "markdown",
   "metadata": {},
   "source": [
    "## Way #1"
   ]
  },
  {
   "cell_type": "code",
   "execution_count": 3,
   "metadata": {
    "collapsed": false
   },
   "outputs": [
    {
     "data": {
      "text/html": [
       "\n",
       "        <iframe\n",
       "            width=\"100%\"\n",
       "            height=\"500\"\n",
       "            src=\"pivottablejs.html\"\n",
       "            frameborder=\"0\"\n",
       "            allowfullscreen\n",
       "        ></iframe>\n",
       "        "
      ],
      "text/plain": [
       "<IPython.lib.display.IFrame at 0x7ff1f9068990>"
      ]
     },
     "execution_count": 3,
     "metadata": {},
     "output_type": "execute_result"
    }
   ],
   "source": [
    "from pivottablejs import pivot_ui\n",
    "pivot_ui(df)"
   ]
  },
  {
   "cell_type": "markdown",
   "metadata": {},
   "source": [
    "## Way 2"
   ]
  },
  {
   "cell_type": "code",
   "execution_count": 4,
   "metadata": {
    "collapsed": false
   },
   "outputs": [],
   "source": [
    "import plotly.plotly as py\n",
    "py.sign_in('captain_eli', '770a8dza83')\n",
    "from plotly.graph_objs import Bar"
   ]
  },
  {
   "cell_type": "code",
   "execution_count": 5,
   "metadata": {
    "collapsed": false
   },
   "outputs": [
    {
     "data": {
      "text/html": [
       "<iframe id=\"igraph\" scrolling=\"no\" style=\"border:none;\"seamless=\"seamless\" src=\"https://plot.ly/~captain_eli/2.embed\" height=\"525px\" width=\"100%\"></iframe>"
      ],
      "text/plain": [
       "<plotly.tools.PlotlyDisplay object>"
      ]
     },
     "execution_count": 5,
     "metadata": {},
     "output_type": "execute_result"
    }
   ],
   "source": [
    "py.iplot([Bar(x=df['Group Starts'], y=df['Avg - Delay (Lynden/Aldergrove)'])])"
   ]
  },
  {
   "cell_type": "markdown",
   "metadata": {},
   "source": [
    "## Way 3"
   ]
  },
  {
   "cell_type": "code",
   "execution_count": 22,
   "metadata": {
    "collapsed": false
   },
   "outputs": [],
   "source": [
    "import seaborn as sns\n",
    "%matplotlib inline \n",
    "\n",
    "from ipywidgets import widgets\n",
    "from IPython.display import display"
   ]
  },
  {
   "cell_type": "code",
   "execution_count": 30,
   "metadata": {
    "collapsed": false
   },
   "outputs": [],
   "source": [
    "columns = df.columns.tolist()\n",
    "\n",
    "selection = widgets.Dropdown(description=\"Which column should be graphed?\")\n",
    "selection.options = columns\n",
    "display(selection)\n",
    "\n",
    "def on_button_clicked(b):\n",
    "    sns.set_style(\"whitegrid\")\n",
    "    sns.set_context(rc={\"figure.figsize\": (12, 9)})\n",
    "    sns.barplot(x='Group Starts', y=selection.value, data=df, color='Blue')\n",
    "\n",
    "\n",
    "button = widgets.Button(description=\"Make graph\")\n",
    "display(button)\n",
    "\n",
    "button.on_click(on_button_clicked)"
   ]
  },
  {
   "cell_type": "code",
   "execution_count": null,
   "metadata": {
    "collapsed": true
   },
   "outputs": [],
   "source": []
  },
  {
   "cell_type": "code",
   "execution_count": null,
   "metadata": {
    "collapsed": true
   },
   "outputs": [],
   "source": []
  }
 ],
 "metadata": {
  "kernelspec": {
   "display_name": "Python 2",
   "language": "python",
   "name": "python2"
  },
  "language_info": {
   "codemirror_mode": {
    "name": "ipython",
    "version": 2
   },
   "file_extension": ".py",
   "mimetype": "text/x-python",
   "name": "python",
   "nbconvert_exporter": "python",
   "pygments_lexer": "ipython2",
   "version": "2.7.11"
  }
 },
 "nbformat": 4,
 "nbformat_minor": 0
}
